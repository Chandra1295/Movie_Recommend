{
 "cells": [
  {
   "cell_type": "code",
   "execution_count": 1,
   "id": "042d939e",
   "metadata": {},
   "outputs": [],
   "source": [
    "# import sys\n",
    "# !{sys.executable} -m pip install pandas\n",
    "# !{sys.executable} -m pip install sklearn\n",
    "\n",
    "import pandas as pd\n",
    "import numpy as np\n",
    "import matplotlib.pyplot as plt\n",
    "import seaborn as sns\n",
    "%matplotlib inline"
   ]
  },
  {
   "cell_type": "code",
   "execution_count": 2,
   "id": "b99d2dc3",
   "metadata": {},
   "outputs": [
    {
     "data": {
      "text/html": [
       "<div>\n",
       "<style scoped>\n",
       "    .dataframe tbody tr th:only-of-type {\n",
       "        vertical-align: middle;\n",
       "    }\n",
       "\n",
       "    .dataframe tbody tr th {\n",
       "        vertical-align: top;\n",
       "    }\n",
       "\n",
       "    .dataframe thead th {\n",
       "        text-align: right;\n",
       "    }\n",
       "</style>\n",
       "<table border=\"1\" class=\"dataframe\">\n",
       "  <thead>\n",
       "    <tr style=\"text-align: right;\">\n",
       "      <th></th>\n",
       "      <th>MovieID</th>\n",
       "      <th>Title</th>\n",
       "      <th>Genres</th>\n",
       "    </tr>\n",
       "  </thead>\n",
       "  <tbody>\n",
       "    <tr>\n",
       "      <th>0</th>\n",
       "      <td>1</td>\n",
       "      <td>Toy Story (1995)</td>\n",
       "      <td>Animation|Children's|Comedy</td>\n",
       "    </tr>\n",
       "    <tr>\n",
       "      <th>1</th>\n",
       "      <td>2</td>\n",
       "      <td>Jumanji (1995)</td>\n",
       "      <td>Adventure|Children's|Fantasy</td>\n",
       "    </tr>\n",
       "    <tr>\n",
       "      <th>2</th>\n",
       "      <td>3</td>\n",
       "      <td>Grumpier Old Men (1995)</td>\n",
       "      <td>Comedy|Romance</td>\n",
       "    </tr>\n",
       "    <tr>\n",
       "      <th>3</th>\n",
       "      <td>4</td>\n",
       "      <td>Waiting to Exhale (1995)</td>\n",
       "      <td>Comedy|Drama</td>\n",
       "    </tr>\n",
       "    <tr>\n",
       "      <th>4</th>\n",
       "      <td>5</td>\n",
       "      <td>Father of the Bride Part II (1995)</td>\n",
       "      <td>Comedy</td>\n",
       "    </tr>\n",
       "  </tbody>\n",
       "</table>\n",
       "</div>"
      ],
      "text/plain": [
       "   MovieID                               Title                        Genres\n",
       "0        1                    Toy Story (1995)   Animation|Children's|Comedy\n",
       "1        2                      Jumanji (1995)  Adventure|Children's|Fantasy\n",
       "2        3             Grumpier Old Men (1995)                Comedy|Romance\n",
       "3        4            Waiting to Exhale (1995)                  Comedy|Drama\n",
       "4        5  Father of the Bride Part II (1995)                        Comedy"
      ]
     },
     "execution_count": 2,
     "metadata": {},
     "output_type": "execute_result"
    }
   ],
   "source": [
    "df_movies=pd.read_csv('/home/csc/my_first_environment/Movie_Recommend/movies.dat', sep=\"::\",names=[\"MovieID\",\"Title\",\"Genres\"],engine='python',encoding='latin-1',header=None,skiprows=1)\n",
    "df_movies.head()"
   ]
  },
  {
   "cell_type": "code",
   "execution_count": 3,
   "id": "b8dadca5",
   "metadata": {},
   "outputs": [
    {
     "data": {
      "text/html": [
       "<div>\n",
       "<style scoped>\n",
       "    .dataframe tbody tr th:only-of-type {\n",
       "        vertical-align: middle;\n",
       "    }\n",
       "\n",
       "    .dataframe tbody tr th {\n",
       "        vertical-align: top;\n",
       "    }\n",
       "\n",
       "    .dataframe thead th {\n",
       "        text-align: right;\n",
       "    }\n",
       "</style>\n",
       "<table border=\"1\" class=\"dataframe\">\n",
       "  <thead>\n",
       "    <tr style=\"text-align: right;\">\n",
       "      <th></th>\n",
       "      <th>UserID</th>\n",
       "      <th>MovieID</th>\n",
       "      <th>Rating</th>\n",
       "      <th>Timestamp</th>\n",
       "    </tr>\n",
       "  </thead>\n",
       "  <tbody>\n",
       "    <tr>\n",
       "      <th>0</th>\n",
       "      <td>1</td>\n",
       "      <td>1193</td>\n",
       "      <td>5</td>\n",
       "      <td>978300760</td>\n",
       "    </tr>\n",
       "    <tr>\n",
       "      <th>1</th>\n",
       "      <td>1</td>\n",
       "      <td>661</td>\n",
       "      <td>3</td>\n",
       "      <td>978302109</td>\n",
       "    </tr>\n",
       "    <tr>\n",
       "      <th>2</th>\n",
       "      <td>1</td>\n",
       "      <td>914</td>\n",
       "      <td>3</td>\n",
       "      <td>978301968</td>\n",
       "    </tr>\n",
       "    <tr>\n",
       "      <th>3</th>\n",
       "      <td>1</td>\n",
       "      <td>3408</td>\n",
       "      <td>4</td>\n",
       "      <td>978300275</td>\n",
       "    </tr>\n",
       "    <tr>\n",
       "      <th>4</th>\n",
       "      <td>1</td>\n",
       "      <td>2355</td>\n",
       "      <td>5</td>\n",
       "      <td>978824291</td>\n",
       "    </tr>\n",
       "  </tbody>\n",
       "</table>\n",
       "</div>"
      ],
      "text/plain": [
       "   UserID  MovieID  Rating  Timestamp\n",
       "0       1     1193       5  978300760\n",
       "1       1      661       3  978302109\n",
       "2       1      914       3  978301968\n",
       "3       1     3408       4  978300275\n",
       "4       1     2355       5  978824291"
      ]
     },
     "execution_count": 3,
     "metadata": {},
     "output_type": "execute_result"
    }
   ],
   "source": [
    "df_ratings=pd.read_csv('/home/csc/my_first_environment/Movie_Recommend/ratings.dat', sep=\"::\",names=[\"UserID\",\"MovieID\",\"Rating\",\"Timestamp\"],engine='python',encoding='latin-1',header=None,skiprows=1)\n",
    "df_ratings.head()"
   ]
  },
  {
   "cell_type": "code",
   "execution_count": 5,
   "id": "41c39f0b",
   "metadata": {},
   "outputs": [
    {
     "name": "stdout",
     "output_type": "stream",
     "text": [
      "Movie dataframe Shape (3883, 3)\n",
      "Ratings dataframe Shape (1000209, 4)\n",
      "Users dataframe Shape (6040, 5)\n"
     ]
    }
   ],
   "source": [
    "print(f'Movie dataframe Shape {df_movies.shape}')\n",
    "print(f'Ratings dataframe Shape {df_ratings.shape}')\n",
    "print(f'Users dataframe Shape {df_users.shape}')"
   ]
  },
  {
   "cell_type": "code",
   "execution_count": 6,
   "id": "b2157277",
   "metadata": {},
   "outputs": [
    {
     "data": {
      "text/plain": [
       "(1000209, 6)"
      ]
     },
     "execution_count": 6,
     "metadata": {},
     "output_type": "execute_result"
    }
   ],
   "source": [
    "dfmovieratings=df_movies.merge(df_ratings,on='MovieID',how='inner')\n",
    "dfmovieratings.shape"
   ]
  },
  {
   "cell_type": "code",
   "execution_count": 7,
   "id": "32a3890c",
   "metadata": {},
   "outputs": [
    {
     "data": {
      "text/html": [
       "<div>\n",
       "<style scoped>\n",
       "    .dataframe tbody tr th:only-of-type {\n",
       "        vertical-align: middle;\n",
       "    }\n",
       "\n",
       "    .dataframe tbody tr th {\n",
       "        vertical-align: top;\n",
       "    }\n",
       "\n",
       "    .dataframe thead th {\n",
       "        text-align: right;\n",
       "    }\n",
       "</style>\n",
       "<table border=\"1\" class=\"dataframe\">\n",
       "  <thead>\n",
       "    <tr style=\"text-align: right;\">\n",
       "      <th></th>\n",
       "      <th>MovieID</th>\n",
       "      <th>Title</th>\n",
       "      <th>Genres</th>\n",
       "      <th>UserID</th>\n",
       "      <th>Rating</th>\n",
       "      <th>Timestamp</th>\n",
       "      <th>Gender</th>\n",
       "      <th>Age</th>\n",
       "      <th>Occupation</th>\n",
       "      <th>Zip-code</th>\n",
       "    </tr>\n",
       "  </thead>\n",
       "  <tbody>\n",
       "    <tr>\n",
       "      <th>0</th>\n",
       "      <td>1</td>\n",
       "      <td>Toy Story (1995)</td>\n",
       "      <td>Animation|Children's|Comedy</td>\n",
       "      <td>1</td>\n",
       "      <td>5</td>\n",
       "      <td>978824268</td>\n",
       "      <td>F</td>\n",
       "      <td>1</td>\n",
       "      <td>10</td>\n",
       "      <td>48067</td>\n",
       "    </tr>\n",
       "    <tr>\n",
       "      <th>1</th>\n",
       "      <td>48</td>\n",
       "      <td>Pocahontas (1995)</td>\n",
       "      <td>Animation|Children's|Musical|Romance</td>\n",
       "      <td>1</td>\n",
       "      <td>5</td>\n",
       "      <td>978824351</td>\n",
       "      <td>F</td>\n",
       "      <td>1</td>\n",
       "      <td>10</td>\n",
       "      <td>48067</td>\n",
       "    </tr>\n",
       "    <tr>\n",
       "      <th>2</th>\n",
       "      <td>150</td>\n",
       "      <td>Apollo 13 (1995)</td>\n",
       "      <td>Drama</td>\n",
       "      <td>1</td>\n",
       "      <td>5</td>\n",
       "      <td>978301777</td>\n",
       "      <td>F</td>\n",
       "      <td>1</td>\n",
       "      <td>10</td>\n",
       "      <td>48067</td>\n",
       "    </tr>\n",
       "    <tr>\n",
       "      <th>3</th>\n",
       "      <td>260</td>\n",
       "      <td>Star Wars: Episode IV - A New Hope (1977)</td>\n",
       "      <td>Action|Adventure|Fantasy|Sci-Fi</td>\n",
       "      <td>1</td>\n",
       "      <td>4</td>\n",
       "      <td>978300760</td>\n",
       "      <td>F</td>\n",
       "      <td>1</td>\n",
       "      <td>10</td>\n",
       "      <td>48067</td>\n",
       "    </tr>\n",
       "    <tr>\n",
       "      <th>4</th>\n",
       "      <td>527</td>\n",
       "      <td>Schindler's List (1993)</td>\n",
       "      <td>Drama|War</td>\n",
       "      <td>1</td>\n",
       "      <td>5</td>\n",
       "      <td>978824195</td>\n",
       "      <td>F</td>\n",
       "      <td>1</td>\n",
       "      <td>10</td>\n",
       "      <td>48067</td>\n",
       "    </tr>\n",
       "  </tbody>\n",
       "</table>\n",
       "</div>"
      ],
      "text/plain": [
       "   MovieID                                      Title  \\\n",
       "0        1                           Toy Story (1995)   \n",
       "1       48                          Pocahontas (1995)   \n",
       "2      150                           Apollo 13 (1995)   \n",
       "3      260  Star Wars: Episode IV - A New Hope (1977)   \n",
       "4      527                    Schindler's List (1993)   \n",
       "\n",
       "                                 Genres  UserID  Rating  Timestamp Gender  \\\n",
       "0           Animation|Children's|Comedy       1       5  978824268      F   \n",
       "1  Animation|Children's|Musical|Romance       1       5  978824351      F   \n",
       "2                                 Drama       1       5  978301777      F   \n",
       "3       Action|Adventure|Fantasy|Sci-Fi       1       4  978300760      F   \n",
       "4                             Drama|War       1       5  978824195      F   \n",
       "\n",
       "   Age  Occupation Zip-code  \n",
       "0    1          10    48067  \n",
       "1    1          10    48067  \n",
       "2    1          10    48067  \n",
       "3    1          10    48067  \n",
       "4    1          10    48067  "
      ]
     },
     "execution_count": 7,
     "metadata": {},
     "output_type": "execute_result"
    }
   ],
   "source": [
    "dfMaster = dfmovieratings.merge(df_users,on=\"UserID\",how='inner')\n",
    "dfMaster.head()"
   ]
  },
  {
   "cell_type": "code",
   "execution_count": 8,
   "id": "16079f0c",
   "metadata": {},
   "outputs": [
    {
     "data": {
      "image/png": "[encoded data removed]",
      "text/plain": [
       "<Figure size 640x480 with 1 Axes>"
      ]
     },
     "metadata": {},
     "output_type": "display_data"
    }
   ],
   "source": [
    "dfMaster['Age'].value_counts().plot(kind='bar')\n",
    "plt.xlabel(\"Age\")\n",
    "plt.title(\"User Age Distribution\")\n",
    "plt.ylabel('Users Count')\n",
    "plt.show()"
   ]
  },
  {
   "cell_type": "code",
   "execution_count": 9,
   "id": "02cb9155",
   "metadata": {},
   "outputs": [
    {
     "data": {
      "text/plain": [
       "Age\n",
       "25    39.547335\n",
       "35    19.896142\n",
       "18    18.349765\n",
       "45     8.361552\n",
       "50     7.247485\n",
       "56     3.877190\n",
       "1      2.720531\n",
       "Name: count, dtype: float64"
      ]
     },
     "execution_count": 9,
     "metadata": {},
     "output_type": "execute_result"
    }
   ],
   "source": [
    "dfMaster['Age'].value_counts()/ len(dfMaster) * 100"
   ]
  },
  {
   "cell_type": "markdown",
   "id": "4b1d399c",
   "metadata": {},
   "source": [
    "Observations\n",
    "​\n",
    "Here we can see thet 20% users are below 25 yrs of age.\n",
    "Age group 25-34 contains around 40% of users.\n",
    "90% users are below 50 yrs of age.\n"
   ]
  },
  {
   "cell_type": "code",
   "execution_count": 11,
   "id": "7d2afe26",
   "metadata": {},
   "outputs": [
    {
     "data": {
      "image/png": "[encoded data removed]",
      "text/plain": [
       "<Figure size 700x700 with 1 Axes>"
      ]
     },
     "metadata": {},
     "output_type": "display_data"
    }
   ],
   "source": [
    "top10=dfMaster.groupby('Title').size().sort_values(ascending=False)[:10]\n",
    "top10.plot(kind='barh',alpha=0.6,figsize=(7,7))\n",
    "plt.xlabel(\"Users Ratings Count\")\n",
    "plt.ylabel(\"Movies (Top 10)\")\n",
    "plt.title(\"Top 10 movies by User rating\")\n",
    "plt.show()"
   ]
  },
  {
   "cell_type": "markdown",
   "id": "e0252d4c",
   "metadata": {},
   "source": [
    "The movie with maximum no. of ratings is American Beauty.\n"
   ]
  },
  {
   "cell_type": "code",
   "execution_count": 12,
   "id": "d9c7d867",
   "metadata": {},
   "outputs": [
    {
     "data": {
      "text/plain": [
       "Occupation\n",
       "4     131032\n",
       "0     130499\n",
       "7     105425\n",
       "1      85351\n",
       "17     72816\n",
       "dtype: int64"
      ]
     },
     "execution_count": 12,
     "metadata": {},
     "output_type": "execute_result"
    }
   ],
   "source": [
    "top5profession=dfMaster.groupby('Occupation').size().sort_values(ascending=False)[:5]\n",
    "top5profession\n",
    "# top5profession.plot(kind='barh',alpha=0.6,figsize=(7,7))\n",
    "# plt.xlabel(\"Users Ratings Count\")\n",
    "# plt.ylabel(\"Movies (Top 25)\")\n",
    "# plt.title(\"Top 25 movies by User rating\")\n",
    "# plt.show()"
   ]
  },
  {
   "cell_type": "markdown",
   "id": "e0f18cd0",
   "metadata": {},
   "source": [
    "Observation \n",
    "​\n",
    "1)college/grad student watch the most number of movies \n",
    "2)Other category people stand next to college grads"
   ]
  },
  {
   "cell_type": "code",
   "execution_count": 13,
   "id": "b4dbc1e6",
   "metadata": {},
   "outputs": [
    {
     "data": {
      "text/plain": [
       "Gender\n",
       "M    753769\n",
       "F    246440\n",
       "dtype: int64"
      ]
     },
     "execution_count": 13,
     "metadata": {},
     "output_type": "execute_result"
    }
   ],
   "source": [
    "topGender=dfMaster.groupby('Gender').size().sort_values(ascending=False)[:5]\n",
    "topGender"
   ]
  },
  {
   "cell_type": "markdown",
   "id": "89133984",
   "metadata": {},
   "source": [
    "Observation \n",
    "​\n",
    "Most of rating is given Male"
   ]
  },
  {
   "cell_type": "code",
   "execution_count": 14,
   "id": "b9135d40",
   "metadata": {},
   "outputs": [],
   "source": [
    "dfMaster['Timestamp'] = pd.to_datetime(dfMaster['Timestamp'], unit='s')\n",
    "dfMaster['Year'] = dfMaster['Timestamp'].dt.year\n",
    "dfMaster.drop(columns='Timestamp',inplace=True)\n"
   ]
  },
  {
   "cell_type": "code",
   "execution_count": 15,
   "id": "5c637582",
   "metadata": {},
   "outputs": [
    {
     "data": {
      "text/html": [
       "<div>\n",
       "<style scoped>\n",
       "    .dataframe tbody tr th:only-of-type {\n",
       "        vertical-align: middle;\n",
       "    }\n",
       "\n",
       "    .dataframe tbody tr th {\n",
       "        vertical-align: top;\n",
       "    }\n",
       "\n",
       "    .dataframe thead th {\n",
       "        text-align: right;\n",
       "    }\n",
       "</style>\n",
       "<table border=\"1\" class=\"dataframe\">\n",
       "  <thead>\n",
       "    <tr style=\"text-align: right;\">\n",
       "      <th></th>\n",
       "      <th>MovieID</th>\n",
       "      <th>Title</th>\n",
       "      <th>Genres</th>\n",
       "      <th>UserID</th>\n",
       "      <th>Rating</th>\n",
       "      <th>Gender</th>\n",
       "      <th>Age</th>\n",
       "      <th>Occupation</th>\n",
       "      <th>Zip-code</th>\n",
       "      <th>Year</th>\n",
       "    </tr>\n",
       "  </thead>\n",
       "  <tbody>\n",
       "    <tr>\n",
       "      <th>0</th>\n",
       "      <td>1</td>\n",
       "      <td>Toy Story (1995)</td>\n",
       "      <td>Animation|Children's|Comedy</td>\n",
       "      <td>1</td>\n",
       "      <td>5</td>\n",
       "      <td>F</td>\n",
       "      <td>1</td>\n",
       "      <td>10</td>\n",
       "      <td>48067</td>\n",
       "      <td>2001</td>\n",
       "    </tr>\n",
       "    <tr>\n",
       "      <th>1</th>\n",
       "      <td>48</td>\n",
       "      <td>Pocahontas (1995)</td>\n",
       "      <td>Animation|Children's|Musical|Romance</td>\n",
       "      <td>1</td>\n",
       "      <td>5</td>\n",
       "      <td>F</td>\n",
       "      <td>1</td>\n",
       "      <td>10</td>\n",
       "      <td>48067</td>\n",
       "      <td>2001</td>\n",
       "    </tr>\n",
       "    <tr>\n",
       "      <th>2</th>\n",
       "      <td>150</td>\n",
       "      <td>Apollo 13 (1995)</td>\n",
       "      <td>Drama</td>\n",
       "      <td>1</td>\n",
       "      <td>5</td>\n",
       "      <td>F</td>\n",
       "      <td>1</td>\n",
       "      <td>10</td>\n",
       "      <td>48067</td>\n",
       "      <td>2000</td>\n",
       "    </tr>\n",
       "    <tr>\n",
       "      <th>3</th>\n",
       "      <td>260</td>\n",
       "      <td>Star Wars: Episode IV - A New Hope (1977)</td>\n",
       "      <td>Action|Adventure|Fantasy|Sci-Fi</td>\n",
       "      <td>1</td>\n",
       "      <td>4</td>\n",
       "      <td>F</td>\n",
       "      <td>1</td>\n",
       "      <td>10</td>\n",
       "      <td>48067</td>\n",
       "      <td>2000</td>\n",
       "    </tr>\n",
       "    <tr>\n",
       "      <th>4</th>\n",
       "      <td>527</td>\n",
       "      <td>Schindler's List (1993)</td>\n",
       "      <td>Drama|War</td>\n",
       "      <td>1</td>\n",
       "      <td>5</td>\n",
       "      <td>F</td>\n",
       "      <td>1</td>\n",
       "      <td>10</td>\n",
       "      <td>48067</td>\n",
       "      <td>2001</td>\n",
       "    </tr>\n",
       "    <tr>\n",
       "      <th>...</th>\n",
       "      <td>...</td>\n",
       "      <td>...</td>\n",
       "      <td>...</td>\n",
       "      <td>...</td>\n",
       "      <td>...</td>\n",
       "      <td>...</td>\n",
       "      <td>...</td>\n",
       "      <td>...</td>\n",
       "      <td>...</td>\n",
       "      <td>...</td>\n",
       "    </tr>\n",
       "    <tr>\n",
       "      <th>1000204</th>\n",
       "      <td>3513</td>\n",
       "      <td>Rules of Engagement (2000)</td>\n",
       "      <td>Drama|Thriller</td>\n",
       "      <td>5727</td>\n",
       "      <td>4</td>\n",
       "      <td>M</td>\n",
       "      <td>25</td>\n",
       "      <td>4</td>\n",
       "      <td>92843</td>\n",
       "      <td>2000</td>\n",
       "    </tr>\n",
       "    <tr>\n",
       "      <th>1000205</th>\n",
       "      <td>3535</td>\n",
       "      <td>American Psycho (2000)</td>\n",
       "      <td>Comedy|Horror|Thriller</td>\n",
       "      <td>5727</td>\n",
       "      <td>2</td>\n",
       "      <td>M</td>\n",
       "      <td>25</td>\n",
       "      <td>4</td>\n",
       "      <td>92843</td>\n",
       "      <td>2000</td>\n",
       "    </tr>\n",
       "    <tr>\n",
       "      <th>1000206</th>\n",
       "      <td>3536</td>\n",
       "      <td>Keeping the Faith (2000)</td>\n",
       "      <td>Comedy|Romance</td>\n",
       "      <td>5727</td>\n",
       "      <td>5</td>\n",
       "      <td>M</td>\n",
       "      <td>25</td>\n",
       "      <td>4</td>\n",
       "      <td>92843</td>\n",
       "      <td>2000</td>\n",
       "    </tr>\n",
       "    <tr>\n",
       "      <th>1000207</th>\n",
       "      <td>3555</td>\n",
       "      <td>U-571 (2000)</td>\n",
       "      <td>Action|Thriller</td>\n",
       "      <td>5727</td>\n",
       "      <td>3</td>\n",
       "      <td>M</td>\n",
       "      <td>25</td>\n",
       "      <td>4</td>\n",
       "      <td>92843</td>\n",
       "      <td>2000</td>\n",
       "    </tr>\n",
       "    <tr>\n",
       "      <th>1000208</th>\n",
       "      <td>3578</td>\n",
       "      <td>Gladiator (2000)</td>\n",
       "      <td>Action|Drama</td>\n",
       "      <td>5727</td>\n",
       "      <td>5</td>\n",
       "      <td>M</td>\n",
       "      <td>25</td>\n",
       "      <td>4</td>\n",
       "      <td>92843</td>\n",
       "      <td>2000</td>\n",
       "    </tr>\n",
       "  </tbody>\n",
       "</table>\n",
       "<p>1000209 rows × 10 columns</p>\n",
       "</div>"
      ],
      "text/plain": [
       "         MovieID                                      Title  \\\n",
       "0              1                           Toy Story (1995)   \n",
       "1             48                          Pocahontas (1995)   \n",
       "2            150                           Apollo 13 (1995)   \n",
       "3            260  Star Wars: Episode IV - A New Hope (1977)   \n",
       "4            527                    Schindler's List (1993)   \n",
       "...          ...                                        ...   \n",
       "1000204     3513                 Rules of Engagement (2000)   \n",
       "1000205     3535                     American Psycho (2000)   \n",
       "1000206     3536                   Keeping the Faith (2000)   \n",
       "1000207     3555                               U-571 (2000)   \n",
       "1000208     3578                           Gladiator (2000)   \n",
       "\n",
       "                                       Genres  UserID  Rating Gender  Age  \\\n",
       "0                 Animation|Children's|Comedy       1       5      F    1   \n",
       "1        Animation|Children's|Musical|Romance       1       5      F    1   \n",
       "2                                       Drama       1       5      F    1   \n",
       "3             Action|Adventure|Fantasy|Sci-Fi       1       4      F    1   \n",
       "4                                   Drama|War       1       5      F    1   \n",
       "...                                       ...     ...     ...    ...  ...   \n",
       "1000204                        Drama|Thriller    5727       4      M   25   \n",
       "1000205                Comedy|Horror|Thriller    5727       2      M   25   \n",
       "1000206                        Comedy|Romance    5727       5      M   25   \n",
       "1000207                       Action|Thriller    5727       3      M   25   \n",
       "1000208                          Action|Drama    5727       5      M   25   \n",
       "\n",
       "         Occupation Zip-code  Year  \n",
       "0                10    48067  2001  \n",
       "1                10    48067  2001  \n",
       "2                10    48067  2000  \n",
       "3                10    48067  2000  \n",
       "4                10    48067  2001  \n",
       "...             ...      ...   ...  \n",
       "1000204           4    92843  2000  \n",
       "1000205           4    92843  2000  \n",
       "1000206           4    92843  2000  \n",
       "1000207           4    92843  2000  \n",
       "1000208           4    92843  2000  \n",
       "\n",
       "[1000209 rows x 10 columns]"
      ]
     },
     "execution_count": 15,
     "metadata": {},
     "output_type": "execute_result"
    }
   ],
   "source": [
    "dfMaster"
   ]
  },
  {
   "cell_type": "code",
   "execution_count": 16,
   "id": "8a552d58",
   "metadata": {},
   "outputs": [
    {
     "data": {
      "text/plain": [
       "Year\n",
       "2000    904757\n",
       "2001     68058\n",
       "2002     24046\n",
       "2003      3348\n",
       "Name: count, dtype: int64"
      ]
     },
     "execution_count": 16,
     "metadata": {},
     "output_type": "execute_result"
    }
   ],
   "source": [
    "dfMaster['Year'].value_counts()"
   ]
  },
  {
   "cell_type": "markdown",
   "id": "3f1ecbb1",
   "metadata": {},
   "source": [
    "Observation\n",
    "\n",
    "2000 Year as highest Rating"
   ]
  },
  {
   "cell_type": "code",
   "execution_count": 59,
   "id": "b89d8f24",
   "metadata": {},
   "outputs": [
    {
     "name": "stdout",
     "output_type": "stream",
     "text": [
      "Top 3 movies similar to 'Liar Liar':\n",
      "Index(['Liar Liar (1997)', 'Mrs. Doubtfire (1993)',\n",
      "       'Ace Ventura: Pet Detective (1994)'],\n",
      "      dtype='object', name='Title')\n"
     ]
    }
   ],
   "source": [
    "from sklearn.metrics.pairwise import cosine_similarity\n",
    "# Creating a pivot table of movie titles & user id and imputing the NaN values\n",
    "movie_ratings = dfMaster.pivot_table(index='UserID', columns='Title', values='Rating', fill_value=0)\n",
    "\n",
    "# Assuming 'Liar Liar (1997)' has MovieID 123\n",
    "liar_liar_ratings = movie_ratings['Liar Liar (1997)']\n",
    "\n",
    "# Reshape both arrays to have the same number of features (columns)\n",
    "liar_liar_ratings_reshaped = liar_liar_ratings.values.reshape(1, -1)\n",
    "\n",
    "movie_ratings_reshaped = movie_ratings.T.values\n",
    "\n",
    "# Calculate Cosine Similarity\n",
    "similarities = cosine_similarity(movie_ratings_reshaped, liar_liar_ratings_reshaped)\n",
    "\n",
    "# Get the indices of movies similar to 'Liar Liar'\n",
    "similar_movies_indices = similarities.argsort(axis=0)[:-4:-1].flatten()\n",
    "\n",
    "#Get the titles of the top 3 similar movies\n",
    "top_similar_movies = movie_ratings.columns[similar_movies_indices]\n",
    "\n",
    "print(\"Top 3 movies similar to 'Liar Liar':\")\n",
    "\n",
    "print(top_similar_movies)"
   ]
  },
  {
   "cell_type": "code",
   "execution_count": 64,
   "id": "9716b297",
   "metadata": {},
   "outputs": [
    {
     "name": "stdout",
     "output_type": "stream",
     "text": [
      "(3706,)\n",
      "\n",
      "Top 5 movies similar to 'Liar Liar (1997)':\n",
      "Index(['Liar Liar (1997)', 'Mrs. Doubtfire (1993)', 'Dumb & Dumber (1994)',\n",
      "       'Ace Ventura: Pet Detective (1994)', 'Home Alone (1990)'],\n",
      "      dtype='object', name='Title')\n"
     ]
    }
   ],
   "source": [
    "from sklearn.metrics.pairwise import pairwise_distances\n",
    "\n",
    "# Creating a pivot table of movie titles & user id and imputing the NaN values\n",
    "movie_ratings = dfMaster.pivot_table(index='UserID', columns='Title', values='Rating', fill_value=0)\n",
    "\n",
    "# Calculate the Pearson Correlation\n",
    "item_correlation = 1 - pairwise_distances(movie_ratings.T, metric='correlation')\n",
    "\n",
    "# Convert the NumPy array to a Pandas DataFrame\n",
    "item_correlation_df = pd.DataFrame(item_correlation, columns=movie_ratings.columns, index=movie_ratings.columns)\n",
    "\n",
    "# Write the DataFrame to a CSV file\n",
    "item_correlation_df.to_csv('item_correlation.csv')\n",
    "\n",
    "# Function to get top N similar movies based on Pearson Correlation\n",
    "def get_top_similar_movies(movie_title, n=5):\n",
    "    movie_idx = movie_ratings.columns.get_loc(movie_title)\n",
    "    similar_scores = item_correlation[movie_idx]\n",
    "    top_similar_movies = np.argsort(similar_scores)[::-1][:n]\n",
    "    return movie_ratings.columns[top_similar_movies]\n",
    "\n",
    "# Example: Get top 5 movies similar to 'Liar Liar (1997)'\n",
    "movie_title = 'Liar Liar (1997)'\n",
    "top_similar_movies = get_top_similar_movies(movie_title, n=5)\n",
    "    \n",
    "print(f\"\\nTop 5 movies similar to '{movie_title}':\")\n",
    "print(top_similar_movies)"
   ]
  },
  {
   "cell_type": "code",
   "execution_count": 31,
   "id": "a9c1feca",
   "metadata": {},
   "outputs": [
    {
     "name": "stdout",
     "output_type": "stream",
     "text": [
      "\n",
      "Item Similarity Matrix:\n",
      "[[1.         0.07235746 0.03701053 ... 0.         0.12024178 0.02700277]\n",
      " [0.07235746 1.         0.11528952 ... 0.         0.         0.07780705]\n",
      " [0.03701053 0.11528952 1.         ... 0.         0.04752635 0.0632837 ]\n",
      " ...\n",
      " [0.         0.         0.         ... 1.         0.         0.04564448]\n",
      " [0.12024178 0.         0.04752635 ... 0.         1.         0.04433508]\n",
      " [0.02700277 0.07780705 0.0632837  ... 0.04564448 0.04433508 1.        ]]\n",
      "\n",
      "Top 5 movies similar to 'Liar Liar (1997)' using Nearest Neighbors and Cosine Similarity:\n",
      "Index(['Mrs. Doubtfire (1993)', 'Ace Ventura: Pet Detective (1994)',\n",
      "       'Dumb & Dumber (1994)', 'Home Alone (1990)', 'Wayne's World (1992)'],\n",
      "      dtype='object', name='Title')\n"
     ]
    },
    {
     "name": "stderr",
     "output_type": "stream",
     "text": [
      "/home/csc/my_first_environment/lib/python3.10/site-packages/sklearn/utils/extmath.py:193: RuntimeWarning: invalid value encountered in matmul\n",
      "  ret = a @ b\n"
     ]
    }
   ],
   "source": [
    "import pandas as pd\n",
    "from sklearn.metrics.pairwise import cosine_similarity\n",
    "from sklearn.neighbors import NearestNeighbors\n",
    "\n",
    "# Assuming your DataFrame is named dfMaster\n",
    "# Replace 'your_file_path.csv' with the actual path to your dataset\n",
    "# dfMaster = pd.read_csv('your_file_path.csv')\n",
    "\n",
    "# Creating a pivot table of movie titles & user id and imputing the NaN values\n",
    "movie_ratings = dfMaster.pivot_table(index='UserID', columns='Title', values='Rating', fill_value=0)\n",
    "\n",
    "# Calculate the Cosine Similarity\n",
    "item_similarity_matrix = cosine_similarity(movie_ratings.T)\n",
    "\n",
    "# Print the item similarity matrix\n",
    "print(\"\\nItem Similarity Matrix:\")\n",
    "print(item_similarity_matrix)\n",
    "\n",
    "# Create a Nearest Neighbors model\n",
    "nn_model = NearestNeighbors(metric='cosine', algorithm='brute')\n",
    "nn_model.fit(movie_ratings.T)\n",
    "\n",
    "# Function to get top N similar movies using Nearest Neighbors and Cosine Similarity\n",
    "def get_top_similar_movies_nn(movie_title, n=5):\n",
    "    movie_idx = movie_ratings.columns.get_loc(movie_title)\n",
    "    _, indices = nn_model.kneighbors([movie_ratings.T.iloc[movie_idx]], n_neighbors=n+1)\n",
    "    top_similar_movies = movie_ratings.columns[indices.flatten()][1:]\n",
    "    return top_similar_movies\n",
    "\n",
    "# Example: Get top 5 movies similar to 'Liar Liar (1997)' using Nearest Neighbors and Cosine Similarity\n",
    "movie_title = 'Liar Liar (1997)'\n",
    "top_similar_movies_nn = get_top_similar_movies_nn(movie_title, n=5)\n",
    "\n",
    "print(f\"\\nTop 5 movies similar to '{movie_title}' using Nearest Neighbors and Cosine Similarity:\")\n",
    "print(top_similar_movies_nn)"
   ]
  },
  {
   "cell_type": "code",
   "execution_count": 68,
   "id": "92f089f5",
   "metadata": {},
   "outputs": [
    {
     "name": "stdout",
     "output_type": "stream",
     "text": [
      "RMSE: 0.8753\n",
      "MAE:  0.6873\n",
      "Root Mean Squared Error (RMSE): 0.8753499629703873\n",
      "Mean Absolute Percentage Error (MAPE): 13.746726792931169\n",
      "\n",
      "Top 5 movies similar to 'Liar Liar (1997)' based on embeddings:\n",
      "1201         Lethal Weapon 2 (1989)\n",
      "997     Prince of Egypt, The (1998)\n",
      "935       Driving Miss Daisy (1989)\n",
      "1446      Lawrence of Arabia (1962)\n",
      "718          Man on the Moon (1999)\n",
      "Name: Title, dtype: object\n"
     ]
    }
   ],
   "source": [
    "from surprise import Dataset, Reader\n",
    "from surprise.model_selection import train_test_split\n",
    "from surprise import SVD\n",
    "from surprise import accuracy\n",
    "import matplotlib.pyplot as plt\n",
    "import seaborn as sns\n",
    "\n",
    "\n",
    "\n",
    "# Define a Reader object\n",
    "reader = Reader(rating_scale=(1, 5))\n",
    "\n",
    "# Load the data into the Surprise Dataset\n",
    "data = Dataset.load_from_df(dfMaster[['UserID', 'Title', 'Rating']], reader)\n",
    "\n",
    "# Split the data into train and test sets\n",
    "trainset, testset = train_test_split(data, test_size=0.2, random_state=42)\n",
    "\n",
    "# Create and train the SVD model\n",
    "model = SVD()\n",
    "model.fit(trainset)\n",
    "\n",
    "# Make predictions on the test set\n",
    "predictions = model.test(testset)\n",
    "\n",
    "# Evaluate the model using RMSE and MAPE\n",
    "rmse = accuracy.rmse(predictions)\n",
    "mae_value = accuracy.mae(predictions)\n",
    "mape = mae_value / 5.0 * 100 \n",
    "\n",
    "print(f\"Root Mean Squared Error (RMSE): {rmse}\")\n",
    "print(f\"Mean Absolute Percentage Error (MAPE): {mape}\")\n",
    "\n",
    "\n",
    "liar_liar_internal_id = trainset.to_inner_iid('Liar Liar (1997)')\n",
    "\n",
    "# Get the latent factors for 'Liar Liar (1997)'\n",
    "liar_liar_embedding = model.qi[liar_liar_internal_id]\n",
    "\n",
    "# Find movies similar to 'Liar Liar' based on embeddings\n",
    "similar_movies_indices = (model.qi @ liar_liar_embedding.T).argsort(axis=0)[::-1].flatten()\n",
    "\n",
    "# Print the top 5 movies similar to 'Liar Liar'\n",
    "top_similar_movies = dfMaster['Title'].iloc[similar_movies_indices[1:6]]\n",
    "print(\"\\nTop 5 movies similar to 'Liar Liar (1997)' based on embeddings:\")\n",
    "print(top_similar_movies)"
   ]
  }
 ],
 "metadata": {
  "kernelspec": {
   "display_name": "Python 3 (ipykernel)",
   "language": "python",
   "name": "python3"
  },
  "language_info": {
   "codemirror_mode": {
    "name": "ipython",
    "version": 3
   },
   "file_extension": ".py",
   "mimetype": "text/x-python",
   "name": "python",
   "nbconvert_exporter": "python",
   "pygments_lexer": "ipython3",
   "version": "3.10.12"
  }
 },
 "nbformat": 4,
 "nbformat_minor": 5
}
